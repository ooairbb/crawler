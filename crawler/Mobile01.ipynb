{
 "cells": [
  {
   "cell_type": "code",
   "execution_count": 7,
   "metadata": {
    "collapsed": false
   },
   "outputs": [],
   "source": [
    "import requests\n",
    "import json\n",
    "import datetime\n",
    "import time\n",
    "import pygal\n",
    "from bs4 import BeautifulSoup\n",
    "\n",
    "class mobile01:\n",
    "    \n",
    "    def __init__(self):\n",
    "        \n",
    "        self.domain_name = 'www.mobile01.com'\n",
    "        self.path = {\n",
    "            'ASUS':'topiclist.php?sort=topictime&f=588&p=', \n",
    "            'ACER':'topiclist.php?sort=topictime&f=564&p=',\n",
    "            'HTC':'topiclist.php?sort=topictime&f=566&p=',\n",
    "            'SAMSUNG':'topiclist.php?sort=topictime&f=568&p='\n",
    "        }\n",
    "        self.page = 1\n",
    "        self.begin = datetime.date(2016, 7, 17)\n",
    "        self.start_date = self.begin\n",
    "        self.begin = self.begin.timetuple()\n",
    "        self.begin = time.mktime(self.begin)\n",
    "        self.end = datetime.date(2016, 7, 24)\n",
    "        self.end_date = self.end\n",
    "        self.end = self.end.timetuple()\n",
    "        self.end = time.mktime(self.end)\n",
    "        self.day_count = (self.end_date - self.start_date).days + 1\n",
    "        self.schema = {}\n",
    "        \n",
    "        for brand in self.path:\n",
    "            \n",
    "            if brand not in self.schema:\n",
    "                self.schema[brand] = {}\n",
    "                \n",
    "            for single_date in (self.start_date + datetime.timedelta(n) for n in range(self.day_count)):\n",
    "                self.schema[brand][str(single_date)] = 0\n",
    "        \n",
    "    def get_forum_list(self):\n",
    "        \n",
    "        count = self.schema\n",
    "        \n",
    "        for brand in self.path:\n",
    "            \n",
    "            self.page = 1\n",
    "            out = False\n",
    "                \n",
    "            while False == out:\n",
    "                \n",
    "                url = 'http://' + self.domain_name + '/' + self.path[brand] + str(self.page)\n",
    "                rs = requests.get(url)\n",
    "                forum_list = BeautifulSoup(rs.text, 'lxml')\n",
    "\n",
    "                for thread in forum_list.select('table[summary=文章列表] tr'):\n",
    "                    \n",
    "                    if 0 == len(thread.select('span.redpoint')) and 0 == len(thread.select('th')):\n",
    "                        \n",
    "                        authur_date = thread.select('td.authur p')[0].getText().split(' ')\n",
    "                        authur_date = authur_date[0]\n",
    "                        key = authur_date\n",
    "                        authur_date = datetime.datetime.strptime(authur_date, '%Y-%m-%d').timetuple()\n",
    "                        timestamp = time.mktime(authur_date)\n",
    "                        \n",
    "                        if self.begin <= timestamp and self.end >= timestamp:\n",
    "                                count[brand][key] = count[brand][key] + 1\n",
    "                        else:\n",
    "                            out = True\n",
    "                            \n",
    "                self.page = self.page + 1\n",
    "        \n",
    "        self.schema = count\n",
    "        \n",
    "    def draw_graph(self):\n",
    "        \n",
    "        count = {};\n",
    "        \n",
    "        for brand in self.path:\n",
    "            \n",
    "            if brand not in count:\n",
    "                count[brand] = self.schema[brand].values()\n",
    "        \n",
    "        line_chart = pygal.Bar()\n",
    "        line_chart.title = '手機品牌討論熱度評比 (依發文數)'\n",
    "        line_chart.x_labels = map(str, (self.start_date + datetime.timedelta(n) for n in range(self.day_count)))\n",
    "        \n",
    "        for brand in count:\n",
    "            line_chart.add(brand, count[brand])\n",
    "            \n",
    "        line_chart.render_to_file('rating.svg')\n",
    "        "
   ]
  },
  {
   "cell_type": "code",
   "execution_count": 8,
   "metadata": {
    "collapsed": false
   },
   "outputs": [],
   "source": [
    "m01 = mobile01()\n",
    "m01.get_forum_list()\n",
    "m01.draw_graph()"
   ]
  },
  {
   "cell_type": "code",
   "execution_count": null,
   "metadata": {
    "collapsed": true
   },
   "outputs": [],
   "source": []
  },
  {
   "cell_type": "code",
   "execution_count": null,
   "metadata": {
    "collapsed": true
   },
   "outputs": [],
   "source": []
  },
  {
   "cell_type": "code",
   "execution_count": null,
   "metadata": {
    "collapsed": true
   },
   "outputs": [],
   "source": []
  },
  {
   "cell_type": "code",
   "execution_count": null,
   "metadata": {
    "collapsed": true
   },
   "outputs": [],
   "source": []
  },
  {
   "cell_type": "code",
   "execution_count": null,
   "metadata": {
    "collapsed": true
   },
   "outputs": [],
   "source": []
  }
 ],
 "metadata": {
  "kernelspec": {
   "display_name": "Python 3",
   "language": "python",
   "name": "python3"
  },
  "language_info": {
   "codemirror_mode": {
    "name": "ipython",
    "version": 3
   },
   "file_extension": ".py",
   "mimetype": "text/x-python",
   "name": "python",
   "nbconvert_exporter": "python",
   "pygments_lexer": "ipython3",
   "version": "3.4.3"
  }
 },
 "nbformat": 4,
 "nbformat_minor": 0
}
